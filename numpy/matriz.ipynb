{
 "cells": [
  {
   "cell_type": "code",
   "execution_count": 5,
   "metadata": {},
   "outputs": [],
   "source": [
    "#importamos numpy\n",
    "import numpy as np"
   ]
  },
  {
   "cell_type": "code",
   "execution_count": 6,
   "metadata": {},
   "outputs": [],
   "source": [
    "#Matriz a usar\n",
    "matriz = (\n",
    "    [1.2, 3.4, 5.6, 7],\n",
    "    [9.0, 1.1, 2.2, 3.3],\n",
    "    [4.4, 5.5, 6.6, 7.7],\n",
    "    [8.8, 9.9, 0.1, 1.2],\n",
    "    [2.3, 3.4, 4.5, 5.6]\n",
    ")"
   ]
  },
  {
   "cell_type": "code",
   "execution_count": 7,
   "metadata": {},
   "outputs": [
    {
     "name": "stdout",
     "output_type": "stream",
     "text": [
      "la forma de la matriz es de:  (5, 4)\n"
     ]
    }
   ],
   "source": [
    "#Revisamos que si sea de 5x4\n",
    "print(\"la forma de la matriz es de: \", np.shape(matriz))"
   ]
  },
  {
   "cell_type": "code",
   "execution_count": 8,
   "metadata": {},
   "outputs": [
    {
     "name": "stdout",
     "output_type": "stream",
     "text": [
      "Promedio de la fila 1 : 4.3\n",
      "Promedio de la fila 2 : 3.9000000000000004\n",
      "Promedio de la fila 3 : 6.05\n",
      "Promedio de la fila 4 : 5.000000000000001\n",
      "Promedio de la fila 5 : 3.9499999999999997\n"
     ]
    }
   ],
   "source": [
    "#Promedio de cada fila\n",
    "for i in range (0,5):\n",
    "    print(\"Promedio de la fila\", i+1, \":\", np.average(matriz[i]))"
   ]
  },
  {
   "cell_type": "code",
   "execution_count": 9,
   "metadata": {},
   "outputs": [
    {
     "name": "stdout",
     "output_type": "stream",
     "text": [
      "Promedio de la columna 1 : 5.14\n",
      "Promedio de la columna 2 : 4.659999999999999\n",
      "Promedio de la columna 3 : 3.8\n",
      "Promedio de la columna 4 : 4.959999999999999\n"
     ]
    }
   ],
   "source": [
    "#Promedio de las columnas\n",
    "promedioColumnas=np.average(matriz, axis=0)\n",
    "for i in range (0,4):\n",
    "    print(\"Promedio de la columna\", i+1, \":\", promedioColumnas[i])"
   ]
  },
  {
   "cell_type": "code",
   "execution_count": 10,
   "metadata": {},
   "outputs": [
    {
     "name": "stdout",
     "output_type": "stream",
     "text": [
      "Promedio de toda la matriz: 4.64\n"
     ]
    }
   ],
   "source": [
    "#Promedio general con solo 2 decimales\n",
    "print(\"Promedio de toda la matriz:\", np.average(matriz).round(2))"
   ]
  }
 ],
 "metadata": {
  "kernelspec": {
   "display_name": "Python 3",
   "language": "python",
   "name": "python3"
  },
  "language_info": {
   "codemirror_mode": {
    "name": "ipython",
    "version": 3
   },
   "file_extension": ".py",
   "mimetype": "text/x-python",
   "name": "python",
   "nbconvert_exporter": "python",
   "pygments_lexer": "ipython3",
   "version": "3.12.2"
  }
 },
 "nbformat": 4,
 "nbformat_minor": 2
}
